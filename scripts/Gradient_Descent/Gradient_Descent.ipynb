{
 "cells": [
  {
   "cell_type": "markdown",
   "metadata": {},
   "source": [
    "# Implementatation of gradient descent"
   ]
  },
  {
   "cell_type": "code",
   "execution_count": 17,
   "metadata": {
    "collapsed": false
   },
   "outputs": [
    {
     "name": "stdout",
     "output_type": "stream",
     "text": [
      "The autoreload extension is already loaded. To reload it, use:\n",
      "  %reload_ext autoreload\n"
     ]
    }
   ],
   "source": [
    "# Useful starting lines\n",
    "%matplotlib inline\n",
    "import numpy as np\n",
    "import matplotlib.pyplot as plt\n",
    "from proj1_helpers import *\n",
    "from helpers import *\n",
    "%load_ext autoreload\n",
    "%autoreload 2"
   ]
  },
  {
   "cell_type": "markdown",
   "metadata": {},
   "source": [
    "### Load the training data into feature matrix, class labels, and event ids:"
   ]
  },
  {
   "cell_type": "code",
   "execution_count": 18,
   "metadata": {
    "collapsed": false
   },
   "outputs": [],
   "source": [
    "from proj1_helpers import *\n",
    "DATA_TRAIN_PATH = '../data/train.csv' # TODO: download train data and supply path here \n",
    "y, tX, ids = load_csv_data(DATA_TRAIN_PATH)\n"
   ]
  },
  {
   "cell_type": "markdown",
   "metadata": {},
   "source": [
    "### Now let us turn to the proper machine learning side of the problem"
   ]
  },
  {
   "cell_type": "markdown",
   "metadata": {},
   "source": [
    "The run ridge regression function here computes everything we need in our problem. It works the follwing way.\n",
    "- We define the parameters for our run, basically the degrees and the lambdas we want.\n",
    "- The cross_validation function performs a k-fold cross-validation (takes a lot of time) and then returns the best degree of polynomial along with the associated lambda. \n",
    "- Then we just have to re-run the ridge regression once more with those parameters to get the optimal weights.\n",
    "- The final step is to run the model on the testing data set, do our prediction and save the result\n",
    "\n",
    "VERY IMPORTANT NOTE :\n",
    "- The sanitation and standardization of the data are part of our modelling process, there should hence be included into the cross-validation process, as they differ for each sample that we consider."
   ]
  },
  {
   "cell_type": "code",
   "execution_count": 29,
   "metadata": {
    "collapsed": false,
    "scrolled": true
   },
   "outputs": [
    {
     "name": "stdout",
     "output_type": "stream",
     "text": [
      "\n",
      " Testing for a stepsize  1.25892541179\n",
      "max_iter= 5, Percentage of classification error :  0.434488\n",
      "max_iter= 10, Percentage of classification error :  0.775096\n",
      "max_iter= 15, Percentage of classification error :  0.430432\n",
      "\n",
      " Testing for a stepsize  2.11348903984\n",
      "max_iter= 5, Percentage of classification error :  0.442304\n",
      "max_iter= 10, Percentage of classification error :  0.782696\n",
      "max_iter= 15, Percentage of classification error :  0.4395\n",
      "\n",
      " Testing for a stepsize  3.54813389234\n",
      "max_iter= 5, Percentage of classification error :  0.446072\n",
      "max_iter= 10, Percentage of classification error :  0.785868\n",
      "max_iter= 15, Percentage of classification error :  0.444788\n",
      "\n",
      " Testing for a stepsize  5.95662143529\n",
      "max_iter= 5, Percentage of classification error :  0.448244\n",
      "max_iter= 10, Percentage of classification error :  0.788708\n",
      "max_iter= 15, Percentage of classification error :  0.44754\n",
      "\n",
      " Testing for a stepsize  10.0\n",
      "max_iter= 5, Percentage of classification error :  0.449524\n",
      "max_iter= 10, Percentage of classification error :  0.791796\n",
      "max_iter= 15, Percentage of classification error :  0.449208\n",
      "()\n",
      "0\n",
      "\n",
      "Best max_iters : 5\n",
      "Best error : 0.0\n",
      "Best gamma : 5.95662143529\n",
      "Weights on whole set\n",
      " [ 0.26861984 -1.11846807 -0.13661684  3.02678796  0.74791695  1.44028203\n",
      " -0.80513258 -1.63510779  1.29161668  3.1827021   0.0835937   2.3939051\n",
      "  0.3982761   1.48315134  0.02507726  0.01691202  1.29590566  0.03265102\n",
      " -0.00799297  1.80599122  0.03797748  3.036071    3.12280341  2.415357\n",
      "  0.0167186   0.01921881  1.33467353  0.00537138 -0.0146972   2.52419396]\n"
     ]
    },
    {
     "data": {
      "image/png": "[encoded data removed]",
      "text/plain": [
       "<matplotlib.figure.Figure at 0x12ad9c470>"
      ]
     },
     "metadata": {},
     "output_type": "display_data"
    }
   ],
   "source": [
    "from gradient_descent import cross_validation, least_squares_GD\n",
    "def run_gradient_descent(y, tX):\n",
    "    \"\"\"ridge regression running script. works on the RAW data\"\"\"\n",
    "    \n",
    "    # define parameters for our run   \n",
    "    gammas = np.logspace(0.1,1,5)\n",
    "    max_iters = np.array([5,10,15])\n",
    "    k_fold = 4\n",
    "    seed = 69\n",
    "    \n",
    "    rmse,gamma,error = cross_validation(y,tX,gammas,max_iters,k_fold,seed)\n",
    "    #Let us now clean the input\n",
    "    tX,median_tr = sanitize_NaN(tX)\n",
    "    tX,mean_tr,std_tr = standardize(tX)\n",
    "    #tX = build_poly(tX,degrees[0])\n",
    "    \n",
    "    weights = least_squares_GD(y, tX, gamma, max_iters[0])\n",
    "\n",
    "    print('Weights on whole set\\n',weights)\n",
    "    \n",
    "    DATA_TEST_PATH = '../data/test.csv'  # Download train data and supply path here \n",
    "    y_test, tX_test, ids_test = load_csv_data(DATA_TEST_PATH)\n",
    "    \n",
    "    tX_test_sorted,median_vec = sanitize_NaN(tX_test,median_tr)\n",
    "    tX_test_sorted,mean_tr,std_tr = standardize(tX_test_sorted,mean_tr,std_tr)\n",
    "    #tX_test_sorted = build_poly(tX_test_sorted, degrees[0])\n",
    "    OUTPUT_PATH = '../data/output_sanitized_normalization_degree3_lambda_finer.csv' # Fill in desired name of output file for submission\n",
    "    y_pred = predict_labels(np.array(weights), np.array(tX))\n",
    "    create_csv_submission(ids_test, y_pred, OUTPUT_PATH)\n",
    "\n",
    "run_gradient_descent(y,tX)"
   ]
  },
  {
   "cell_type": "code",
   "execution_count": 32,
   "metadata": {
    "collapsed": false
   },
   "outputs": [
    {
     "ename": "ImportError",
     "evalue": "No module named 'ridge_regression'",
     "output_type": "error",
     "traceback": [
      "\u001b[0;31m---------------------------------------------------------------------------\u001b[0m",
      "\u001b[0;31mImportError\u001b[0m                               Traceback (most recent call last)",
      "\u001b[0;32m<ipython-input-32-0bf067289871>\u001b[0m in \u001b[0;36m<module>\u001b[0;34m()\u001b[0m\n\u001b[1;32m      4\u001b[0m \u001b[0;32mimport\u001b[0m \u001b[0mmatplotlib\u001b[0m\u001b[0;34m.\u001b[0m\u001b[0mpyplot\u001b[0m \u001b[0;32mas\u001b[0m \u001b[0mplt\u001b[0m\u001b[0;34m\u001b[0m\u001b[0m\n\u001b[1;32m      5\u001b[0m \u001b[0;32mfrom\u001b[0m \u001b[0mproj1_helpers\u001b[0m \u001b[0;32mimport\u001b[0m \u001b[0;34m*\u001b[0m\u001b[0;34m\u001b[0m\u001b[0m\n\u001b[0;32m----> 6\u001b[0;31m \u001b[0;32mfrom\u001b[0m \u001b[0mridge_regression\u001b[0m \u001b[0;32mimport\u001b[0m \u001b[0;34m*\u001b[0m\u001b[0;34m\u001b[0m\u001b[0m\n\u001b[0m\u001b[1;32m      7\u001b[0m \u001b[0mget_ipython\u001b[0m\u001b[0;34m(\u001b[0m\u001b[0;34m)\u001b[0m\u001b[0;34m.\u001b[0m\u001b[0mmagic\u001b[0m\u001b[0;34m(\u001b[0m\u001b[0;34m'load_ext autoreload'\u001b[0m\u001b[0;34m)\u001b[0m\u001b[0;34m\u001b[0m\u001b[0m\n\u001b[1;32m      8\u001b[0m \u001b[0mget_ipython\u001b[0m\u001b[0;34m(\u001b[0m\u001b[0;34m)\u001b[0m\u001b[0;34m.\u001b[0m\u001b[0mmagic\u001b[0m\u001b[0;34m(\u001b[0m\u001b[0;34m'autoreload 2'\u001b[0m\u001b[0;34m)\u001b[0m\u001b[0;34m\u001b[0m\u001b[0m\n",
      "\u001b[0;31mImportError\u001b[0m: No module named 'ridge_regression'"
     ]
    }
   ],
   "source": [
    "# Useful starting lines\n",
    "%matplotlib inline\n",
    "import numpy as np\n",
    "import matplotlib.pyplot as plt\n",
    "from proj1_helpers import *\n",
    "from gradient_descent import *\n",
    "%load_ext autoreload\n",
    "%autoreload 2\n",
    "\n",
    "def run():\n",
    "    \"\"\"ridge regression running script. works on the RAW data\"\"\"\n",
    "    \n",
    "    #0. DEFINE PARAMETERS FOR OUR RUN\n",
    "    seed = 1\n",
    "    \n",
    "    #not possible yet to run polynomial  degrees at the same time.\n",
    "    degrees = np.array([3])\n",
    "    k_fold = 4\n",
    "    lambdas = np.logspace(-1,2,50)\n",
    "    \n",
    "    #1. LOAD THE DATA\n",
    "    print('LOADING THE DATA: ',end=\" \")\n",
    "    DATA_TRAIN_PATH = 'data/train.csv' # TODO: download train data and supply path here \n",
    "    y, tX, ids = load_csv_data(DATA_TRAIN_PATH)\n",
    "    print('DONE')\n",
    "    \n",
    "    #2. RUN CROSS VALIDATION TO GET BEST LAMBDA\n",
    "    print('CROSS VALIDATION')\n",
    "    rmse,lambda_ = cross_validation(y,tX,degrees,lambdas,k_fold,seed)\n",
    "    #Let us now clean the input\n",
    "    tX,median_tr = sanitize_NaN(tX)\n",
    "    tX,mean_tr,std_tr = standardize(tX)\n",
    "    tX = build_poly(tX,degrees[0])\n",
    "    \n",
    "    #3. TRAIN THE MODEL\n",
    "    weights = ridge_regression(y, tX, lambda_[0])\n",
    "\n",
    "    print('Weights on whole set\\n',weights)\n",
    "    \n",
    "    #4. TEST THE MODEL AND EXPORT THE RESULTS\n",
    "    DATA_TEST_PATH = 'data/test.csv'  # Download train data and supply path here \n",
    "    print('IMPORTING TESTING DATA :',end=\" \")\n",
    "    y_test, tX_test, ids_test = load_csv_data(DATA_TEST_PATH)\n",
    "    print('DONE')\n",
    "    \n",
    "    tX_test_sorted,median_vec = sanitize_NaN(tX_test,median_tr)\n",
    "    tX_test_sorted,mean_tr,std_tr = standardize(tX_test_sorted,mean_tr,std_tr)\n",
    "    tX_test_sorted = build_poly(tX_test_sorted, degrees[0])\n",
    "    OUTPUT_PATH = 'data/output_sanitized_normalization_degree1_lambda_finer_test.csv' # Fill in desired name of output file for submission\n",
    "    print('EXPORTING TESTING DATA WITH PREDICTIONS :',end=\" \")\n",
    "    y_pred = predict_labels(np.array(weights), np.array(tX_test_sorted))\n",
    "    create_csv_submission(ids_test, y_pred, OUTPUT_PATH)\n",
    "    print('DONE')\n",
    "\n",
    "run()"
   ]
  },
  {
   "cell_type": "code",
   "execution_count": null,
   "metadata": {
    "collapsed": true
   },
   "outputs": [],
   "source": []
  }
 ],
 "metadata": {
  "anaconda-cloud": {},
  "kernelspec": {
   "display_name": "Python [Root]",
   "language": "python",
   "name": "Python [Root]"
  },
  "language_info": {
   "codemirror_mode": {
    "name": "ipython",
    "version": 3
   },
   "file_extension": ".py",
   "mimetype": "text/x-python",
   "name": "python",
   "nbconvert_exporter": "python",
   "pygments_lexer": "ipython3",
   "version": "3.5.2"
  }
 },
 "nbformat": 4,
 "nbformat_minor": 0
}
