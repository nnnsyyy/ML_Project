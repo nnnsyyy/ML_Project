{
 "cells": [
  {
   "cell_type": "markdown",
   "metadata": {},
   "source": [
    "# Implementatation of gradient descent"
   ]
  },
  {
   "cell_type": "code",
   "execution_count": 17,
   "metadata": {
    "collapsed": false
   },
   "outputs": [
    {
     "name": "stdout",
     "output_type": "stream",
     "text": [
      "The autoreload extension is already loaded. To reload it, use:\n",
      "  %reload_ext autoreload\n"
     ]
    }
   ],
   "source": [
    "# Useful starting lines\n",
    "%matplotlib inline\n",
    "import numpy as np\n",
    "import matplotlib.pyplot as plt\n",
    "from proj1_helpers import *\n",
    "from helpers import *\n",
    "%load_ext autoreload\n",
    "%autoreload 2"
   ]
  },
  {
   "cell_type": "markdown",
   "metadata": {},
   "source": [
    "### Load the training data into feature matrix, class labels, and event ids:"
   ]
  },
  {
   "cell_type": "code",
   "execution_count": 18,
   "metadata": {
    "collapsed": false
   },
   "outputs": [],
   "source": [
    "from proj1_helpers import *\n",
    "DATA_TRAIN_PATH = '../data/train.csv' # TODO: download train data and supply path here \n",
    "y, tX, ids = load_csv_data(DATA_TRAIN_PATH)\n"
   ]
  },
  {
   "cell_type": "markdown",
   "metadata": {},
   "source": [
    "### Now let us turn to the proper machine learning side of the problem"
   ]
  },
  {
   "cell_type": "markdown",
   "metadata": {},
   "source": [
    "WRITE SOME ANALYSIS HERE"
   ]
  },
  {
   "cell_type": "code",
   "execution_count": 39,
   "metadata": {
    "collapsed": false,
    "scrolled": true
   },
   "outputs": [
    {
     "name": "stdout",
     "output_type": "stream",
     "text": [
      "\n",
      " Testing for max iterations of :  25\n",
      "gamma= 0.5, Percentage of classification error :  1.0482662793\n",
      "gamma= 0.482088, Percentage of classification error :  1.02828877643\n",
      "gamma= 0.464818, Percentage of classification error :  1.01375785028\n",
      "gamma= 0.448166, Percentage of classification error :  1.00162377704\n",
      "gamma= 0.432111, Percentage of classification error :  0.992681167547\n",
      "gamma= 0.416631, Percentage of classification error :  0.98650408347\n",
      "gamma= 0.401706, Percentage of classification error :  0.983608151798\n",
      "gamma= 0.387315, Percentage of classification error :  0.982960228389\n",
      "gamma= 0.37344, Percentage of classification error :  1.18891281357\n",
      "gamma= 0.360062, Percentage of classification error :  1.16941521664\n",
      "gamma= 0.347163, Percentage of classification error :  1.15364097811\n",
      "gamma= 0.334726, Percentage of classification error :  1.13893091881\n",
      "gamma= 0.322735, Percentage of classification error :  1.12631002683\n",
      "gamma= 0.311173, Percentage of classification error :  1.12036723804\n",
      "gamma= 0.300026, Percentage of classification error :  1.08660469771\n",
      "gamma= 0.289278, Percentage of classification error :  1.06104858256\n",
      "gamma= 0.278914, Percentage of classification error :  1.05470759616\n",
      "gamma= 0.268923, Percentage of classification error :  1.05566344305\n",
      "gamma= 0.259289, Percentage of classification error :  1.05562748275\n",
      "gamma= 0.25, Percentage of classification error :  1.05586640334\n",
      "()\n",
      "0\n",
      "\n",
      "Best max_iters : 25\n",
      "Best error : 0.982960228389\n",
      "Best gamma : 0.387314910567\n",
      "Weights on whole set\n",
      " [  2.04310216e-02  -3.80385321e-01  -2.07929071e-01  -2.49283546e-02\n",
      "   1.48461128e-02   3.64432830e-02   2.38951192e-02   2.38356261e-01\n",
      "  -4.04740279e-02  -2.98725911e-02  -1.35954574e-01   2.72457718e-01\n",
      "   7.36053448e-02   2.18083052e-01  -1.35532655e-03   1.62034981e-03\n",
      "   2.28787235e-01  -1.99038986e-03   3.03454330e-03   8.98016414e-02\n",
      "   2.13772463e-03  -5.12582964e-02  -3.04389922e-02  -1.23965643e-02\n",
      "  -4.24523727e-04  -3.45092608e-04  -3.73733020e-02   2.58173123e-03\n",
      "  -2.32259198e-03  -1.09245909e-01]\n"
     ]
    },
    {
     "data": {
      "image/png": "[encoded data removed]",
      "text/plain": [
       "<matplotlib.figure.Figure at 0x10ffed438>"
      ]
     },
     "metadata": {},
     "output_type": "display_data"
    }
   ],
   "source": [
    "from gradient_descent import cross_validation, least_squares_GD\n",
    "def run_gradient_descent(y, tX):\n",
    "    \"\"\"ridge regression running script. works on the RAW data\"\"\"\n",
    "    \n",
    "    # define parameters for our run   \n",
    "    gammas = 1 / np.logspace(1,2,20,base=2)\n",
    "    max_iters = np.array([25])\n",
    "    k_fold = 6\n",
    "    seed = 69\n",
    "    \n",
    "    rmse,gamma,error = cross_validation(y,tX,gammas,max_iters,k_fold,seed)\n",
    "    #Let us now clean the input\n",
    "    tX,median_tr = sanitize_NaN(tX)\n",
    "    tX,mean_tr,std_tr = standardize(tX)\n",
    "    \n",
    "    weights = least_squares_GD(y, tX, gamma, max_iters[0])\n",
    "\n",
    "    print('Weights on whole set\\n',weights)\n",
    "    \n",
    "    DATA_TEST_PATH = '../data/test.csv'  # Download train data and supply path here \n",
    "    y_test, tX_test, ids_test = load_csv_data(DATA_TEST_PATH)\n",
    "    \n",
    "    tX_test_sorted,median_vec = sanitize_NaN(tX_test,median_tr)\n",
    "    tX_test_sorted,mean_tr,std_tr = standardize(tX_test_sorted,mean_tr,std_tr)\n",
    "    OUTPUT_PATH = '../data/output_sanitized_normalization_degree3_lambda_finer.csv' # Fill in desired name of output file for submission\n",
    "    y_pred = predict_labels(np.array(weights), np.array(tX))\n",
    "    create_csv_submission(ids_test, y_pred, OUTPUT_PATH)\n",
    "\n",
    "run_gradient_descent(y,tX)"
   ]
  },
  {
   "cell_type": "code",
   "execution_count": 32,
   "metadata": {
    "collapsed": false
   },
   "outputs": [
    {
     "ename": "ImportError",
     "evalue": "No module named 'ridge_regression'",
     "output_type": "error",
     "traceback": [
      "\u001b[0;31m---------------------------------------------------------------------------\u001b[0m",
      "\u001b[0;31mImportError\u001b[0m                               Traceback (most recent call last)",
      "\u001b[0;32m<ipython-input-32-0bf067289871>\u001b[0m in \u001b[0;36m<module>\u001b[0;34m()\u001b[0m\n\u001b[1;32m      4\u001b[0m \u001b[0;32mimport\u001b[0m \u001b[0mmatplotlib\u001b[0m\u001b[0;34m.\u001b[0m\u001b[0mpyplot\u001b[0m \u001b[0;32mas\u001b[0m \u001b[0mplt\u001b[0m\u001b[0;34m\u001b[0m\u001b[0m\n\u001b[1;32m      5\u001b[0m \u001b[0;32mfrom\u001b[0m \u001b[0mproj1_helpers\u001b[0m \u001b[0;32mimport\u001b[0m \u001b[0;34m*\u001b[0m\u001b[0;34m\u001b[0m\u001b[0m\n\u001b[0;32m----> 6\u001b[0;31m \u001b[0;32mfrom\u001b[0m \u001b[0mridge_regression\u001b[0m \u001b[0;32mimport\u001b[0m \u001b[0;34m*\u001b[0m\u001b[0;34m\u001b[0m\u001b[0m\n\u001b[0m\u001b[1;32m      7\u001b[0m \u001b[0mget_ipython\u001b[0m\u001b[0;34m(\u001b[0m\u001b[0;34m)\u001b[0m\u001b[0;34m.\u001b[0m\u001b[0mmagic\u001b[0m\u001b[0;34m(\u001b[0m\u001b[0;34m'load_ext autoreload'\u001b[0m\u001b[0;34m)\u001b[0m\u001b[0;34m\u001b[0m\u001b[0m\n\u001b[1;32m      8\u001b[0m \u001b[0mget_ipython\u001b[0m\u001b[0;34m(\u001b[0m\u001b[0;34m)\u001b[0m\u001b[0;34m.\u001b[0m\u001b[0mmagic\u001b[0m\u001b[0;34m(\u001b[0m\u001b[0;34m'autoreload 2'\u001b[0m\u001b[0;34m)\u001b[0m\u001b[0;34m\u001b[0m\u001b[0m\n",
      "\u001b[0;31mImportError\u001b[0m: No module named 'ridge_regression'"
     ]
    }
   ],
   "source": [
    "# Useful starting lines\n",
    "%matplotlib inline\n",
    "import numpy as np\n",
    "import matplotlib.pyplot as plt\n",
    "from proj1_helpers import *\n",
    "from gradient_descent import *\n",
    "%load_ext autoreload\n",
    "%autoreload 2\n",
    "\n",
    "def run():\n",
    "    \"\"\"gradient descent running script. works on the RAW data\"\"\"\n",
    "    \n",
    "    #0. DEFINE PARAMETERS FOR OUR RUN\n",
    "    seed = 69\n",
    "    \n",
    "    #not possible yet to run polynomial  degrees at the same time.\n",
    "    degrees = np.array([3])\n",
    "    k_fold = 4\n",
    "    lambdas = np.logspace(-1,2,50)\n",
    "    \n",
    "    #1. LOAD THE DATA\n",
    "    print('LOADING THE DATA: ',end=\" \")\n",
    "    DATA_TRAIN_PATH = 'data/train.csv' # TODO: download train data and supply path here \n",
    "    y, tX, ids = load_csv_data(DATA_TRAIN_PATH)\n",
    "    print('DONE')\n",
    "    \n",
    "    #2. RUN CROSS VALIDATION TO GET BEST LAMBDA\n",
    "    print('CROSS VALIDATION')\n",
    "    rmse,lambda_ = cross_validation(y,tX,degrees,lambdas,k_fold,seed)\n",
    "    #Let us now clean the input\n",
    "    tX,median_tr = sanitize_NaN(tX)\n",
    "    tX,mean_tr,std_tr = standardize(tX)\n",
    "    tX = build_poly(tX,degrees[0])\n",
    "    \n",
    "    #3. TRAIN THE MODEL\n",
    "    weights = ridge_regression(y, tX, lambda_[0])\n",
    "\n",
    "    print('Weights on whole set\\n',weights)\n",
    "    \n",
    "    #4. TEST THE MODEL AND EXPORT THE RESULTS\n",
    "    DATA_TEST_PATH = 'data/test.csv'  # Download train data and supply path here \n",
    "    print('IMPORTING TESTING DATA :',end=\" \")\n",
    "    y_test, tX_test, ids_test = load_csv_data(DATA_TEST_PATH)\n",
    "    print('DONE')\n",
    "    \n",
    "    tX_test_sorted,median_vec = sanitize_NaN(tX_test,median_tr)\n",
    "    tX_test_sorted,mean_tr,std_tr = standardize(tX_test_sorted,mean_tr,std_tr)\n",
    "    tX_test_sorted = build_poly(tX_test_sorted, degrees[0])\n",
    "    OUTPUT_PATH = 'data/output_sanitized_normalization_degree1_lambda_finer_test.csv' # Fill in desired name of output file for submission\n",
    "    print('EXPORTING TESTING DATA WITH PREDICTIONS :',end=\" \")\n",
    "    y_pred = predict_labels(np.array(weights), np.array(tX_test_sorted))\n",
    "    create_csv_submission(ids_test, y_pred, OUTPUT_PATH)\n",
    "    print('DONE')\n",
    "\n",
    "run()"
   ]
  },
  {
   "cell_type": "code",
   "execution_count": null,
   "metadata": {
    "collapsed": true
   },
   "outputs": [],
   "source": []
  }
 ],
 "metadata": {
  "anaconda-cloud": {},
  "kernelspec": {
   "display_name": "Python [Root]",
   "language": "python",
   "name": "Python [Root]"
  },
  "language_info": {
   "codemirror_mode": {
    "name": "ipython",
    "version": 3
   },
   "file_extension": ".py",
   "mimetype": "text/x-python",
   "name": "python",
   "nbconvert_exporter": "python",
   "pygments_lexer": "ipython3",
   "version": "3.5.2"
  }
 },
 "nbformat": 4,
 "nbformat_minor": 0
}
