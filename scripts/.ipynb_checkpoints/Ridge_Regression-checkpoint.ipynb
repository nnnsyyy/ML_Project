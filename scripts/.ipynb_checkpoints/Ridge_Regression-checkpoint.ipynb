{
 "cells": [
  {
   "cell_type": "markdown",
   "metadata": {},
   "source": [
    "# Implementatation of ridge regression"
   ]
  },
  {
   "cell_type": "code",
   "execution_count": 1,
   "metadata": {
    "collapsed": false
   },
   "outputs": [],
   "source": [
    "# Useful starting lines\n",
    "%matplotlib inline\n",
    "import numpy as np\n",
    "import matplotlib.pyplot as plt\n",
    "%load_ext autoreload\n",
    "%autoreload 2"
   ]
  },
  {
   "cell_type": "markdown",
   "metadata": {},
   "source": [
    "### Load the training data into feature matrix, class labels, and event ids:"
   ]
  },
  {
   "cell_type": "code",
   "execution_count": 2,
   "metadata": {
    "collapsed": true
   },
   "outputs": [],
   "source": [
    "from proj1_helpers import *\n",
    "DATA_TRAIN_PATH = 'data/train.csv' \n",
    "y, tX, ids = load_csv_data(DATA_TRAIN_PATH)"
   ]
  },
  {
   "cell_type": "markdown",
   "metadata": {},
   "source": [
    "Sanitizing all the columns that contains NaN (Data set to zero or -999)"
   ]
  },
  {
   "cell_type": "code",
   "execution_count": 3,
   "metadata": {
    "collapsed": false,
    "scrolled": true
   },
   "outputs": [],
   "source": [
    "from helpers import sanitize_NaN\n",
    "\n",
    "tX = sanitize_NaN(tX)       "
   ]
  },
  {
   "cell_type": "markdown",
   "metadata": {},
   "source": [
    "### Now let us turn to the proper machine learning side of the problem"
   ]
  },
  {
   "cell_type": "markdown",
   "metadata": {},
   "source": [
    "The run ridge regression function here computes everything we need in our problem. It works the follwing way.\n",
    "- We define the parameters for our run, basically the degrees and the lambdas we want.\n",
    "- The cross_validation function performs a k-fold cross-validation (takes a lot of time) and then returns the best degree of polynomial along with the associated lambda. \n",
    "- Then we just have to re-run the ridge regression once more with those parameters to get the optimal weights.\n",
    "- The final step is to run the model on the testing data set, do our prediction and save the result\n",
    "    "
   ]
  },
  {
   "cell_type": "code",
   "execution_count": null,
   "metadata": {
    "collapsed": false
   },
   "outputs": [
    {
     "name": "stdout",
     "output_type": "stream",
     "text": [
      "\n",
      " Testing for a polynomial of degree  1\n",
      "lambda= 0.0001, RMSE_BEST_VALUE :  1.03108848293\n",
      "lambda= 0.000133, RMSE_BEST_VALUE :  1.03108846347\n",
      "lambda= 0.000176, RMSE_BEST_VALUE :  1.0310884379\n",
      "lambda= 0.000233, RMSE_BEST_VALUE :  1.03108840449\n",
      "lambda= 0.000309, "
     ]
    }
   ],
   "source": [
    "from ridge_regression import cross_validation, ridge_regression\n",
    "\n",
    "def run_ridge_regression_sanitized(y, tX):\n",
    "    \"\"\"ridge regression running script.\"\"\"\n",
    "    \n",
    "    # define parameters for our run   \n",
    "    seed = 1\n",
    "    degrees = np.array([1])\n",
    "    k_fold = 4\n",
    "    lambdas = np.logspace(-4,2,50)\n",
    "    \n",
    "    rmse,lambda_ = cross_validation(y,tX,degrees,lambdas,k_fold,seed)\n",
    "    \n",
    "    weights = ridge_regression(y, tX, lambda_[0])\n",
    "\n",
    "    DATA_TEST_PATH = 'data/test.csv'  # Download train data and supply path here \n",
    "    y_test, tX_test, ids_test = load_csv_data(DATA_TEST_PATH)\n",
    "    tX_test_sorted = sanitize_NaN(tX_test)\n",
    "    \n",
    "    OUTPUT_PATH = 'data/output_sanitized_normalization_test.csv' # Fill in desired name of output file for submission\n",
    "    y_pred = predict_labels(weights, tX_test_sorted)\n",
    "    create_csv_submission(ids_test, y_pred, OUTPUT_PATH)\n",
    "\n",
    "run_ridge_regression_sanitized(y,tX)"
   ]
  },
  {
   "cell_type": "code",
   "execution_count": null,
   "metadata": {
    "collapsed": true
   },
   "outputs": [],
   "source": []
  }
 ],
 "metadata": {
  "anaconda-cloud": {},
  "kernelspec": {
   "display_name": "Python [Root]",
   "language": "python",
   "name": "Python [Root]"
  },
  "language_info": {
   "codemirror_mode": {
    "name": "ipython",
    "version": 3
   },
   "file_extension": ".py",
   "mimetype": "text/x-python",
   "name": "python",
   "nbconvert_exporter": "python",
   "pygments_lexer": "ipython3",
   "version": "3.5.2"
  }
 },
 "nbformat": 4,
 "nbformat_minor": 0
}
