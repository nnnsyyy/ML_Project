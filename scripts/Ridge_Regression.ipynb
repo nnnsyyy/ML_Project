{
 "cells": [
  {
   "cell_type": "markdown",
   "metadata": {},
   "source": [
    "# Implementatation of ridge regression"
   ]
  },
  {
   "cell_type": "code",
   "execution_count": 1,
   "metadata": {
    "collapsed": false
   },
   "outputs": [],
   "source": [
    "# Useful starting lines\n",
    "%matplotlib inline\n",
    "import numpy as np\n",
    "import matplotlib.pyplot as plt\n",
    "%load_ext autoreload\n",
    "%autoreload 2"
   ]
  },
  {
   "cell_type": "markdown",
   "metadata": {},
   "source": [
    "### Load the training data into feature matrix, class labels, and event ids:"
   ]
  },
  {
   "cell_type": "code",
   "execution_count": 2,
   "metadata": {
    "collapsed": true
   },
   "outputs": [],
   "source": [
    "from proj1_helpers import *\n",
    "DATA_TRAIN_PATH = 'data/train.csv' \n",
    "y, tX, ids = load_csv_data(DATA_TRAIN_PATH)"
   ]
  },
  {
   "cell_type": "markdown",
   "metadata": {},
   "source": [
    "Sanitizing all the columns that contains NaN (Data set to zero or -999)"
   ]
  },
  {
   "cell_type": "code",
   "execution_count": 3,
   "metadata": {
    "collapsed": false,
    "scrolled": true
   },
   "outputs": [],
   "source": [
    "from helpers import sanitize_NaN\n",
    "\n",
    "tX = sanitize_NaN(tX)       "
   ]
  },
  {
   "cell_type": "markdown",
   "metadata": {},
   "source": [
    "### Now let us turn to the proper machine learning side of the problem"
   ]
  },
  {
   "cell_type": "markdown",
   "metadata": {},
   "source": [
    "The run ridge regression function here computes everything we need in our problem. It works the follwing way.\n",
    "- We define the parameters for our run, basically the degrees and the lambdas we want.\n",
    "- The cross_validation function performs a k-fold cross-validation (takes a lot of time) and then returns the best degree of polynomial along with the associated lambda. \n",
    "- Then we just have to re-run the ridge regression once more with those parameters to get the optimal weights.\n",
    "- The final step is to run the model on the testing data set, do our prediction and save the result\n",
    "    "
   ]
  },
  {
   "cell_type": "code",
   "execution_count": 13,
   "metadata": {
    "collapsed": false
   },
   "outputs": [
    {
     "name": "stdout",
     "output_type": "stream",
     "text": [
      "\n",
      " Testing for a polynomial of degree  1\n",
      "lambda= 0.0001, RMSE_BEST_VALUE :  1.03108848293\n",
      "lambda= 0.000133, RMSE_BEST_VALUE :  1.03108846347\n",
      "lambda= 0.000176, RMSE_BEST_VALUE :  1.0310884379\n",
      "lambda= 0.000233, RMSE_BEST_VALUE :  1.03108840449\n",
      "lambda= 0.000309, RMSE_BEST_VALUE :  1.03108836051\n",
      "lambda= 0.000409, RMSE_BEST_VALUE :  1.03108830318\n",
      "lambda= 0.000543, RMSE_BEST_VALUE :  1.03108822871\n",
      "lambda= 0.00072, RMSE_BEST_VALUE :  1.0310881325\n",
      "lambda= 0.000954, RMSE_BEST_VALUE :  1.03108800923\n",
      "lambda= 0.001265, RMSE_BEST_VALUE :  1.03108785261\n",
      "lambda= 0.001677, RMSE_BEST_VALUE :  1.03108765703\n",
      "lambda= 0.002223, RMSE_BEST_VALUE :  1.03108741607\n",
      "lambda= 0.002947, RMSE_BEST_VALUE :  1.0310871257\n",
      "lambda= 0.003907, RMSE_BEST_VALUE :  1.031086784\n",
      "lambda= 0.005179, RMSE_BEST_VALUE :  1.03108639363\n",
      "lambda= 0.006866, RMSE_BEST_VALUE :  1.03108596263\n",
      "lambda= 0.009103, RMSE_BEST_VALUE :  1.03108550422\n",
      "lambda= 0.012068, RMSE_BEST_VALUE :  1.03108503632\n",
      "lambda= 0.015999, RMSE_BEST_VALUE :  1.03108457821\n",
      "lambda= 0.02121, RMSE_BEST_VALUE :  1.0310841479\n",
      "lambda= 0.028118, RMSE_BEST_VALUE :  1.03108375925\n",
      "lambda= 0.037276, RMSE_BEST_VALUE :  1.03108342032\n",
      "lambda= 0.049417, RMSE_BEST_VALUE :  1.03108313355\n",
      "lambda= 0.065513, RMSE_BEST_VALUE :  1.03108289687\n",
      "lambda= 0.086851, RMSE_BEST_VALUE :  1.03108270525\n",
      "lambda= 0.11514, RMSE_BEST_VALUE :  1.03108255218\n",
      "lambda= 0.152642, RMSE_BEST_VALUE :  1.03108243089\n",
      "lambda= 0.202359, RMSE_BEST_VALUE :  1.03108233494\n",
      "lambda= 0.26827, RMSE_BEST_VALUE :  1.03108225859\n",
      "lambda= 0.355648, RMSE_BEST_VALUE :  1.03108219689\n",
      "lambda= 0.471487, RMSE_BEST_VALUE :  1.03108214561\n",
      "lambda= 0.625055, RMSE_BEST_VALUE :  1.03108210113\n",
      "lambda= 0.828643, RMSE_BEST_VALUE :  1.03108206033\n",
      "lambda= 1.098541, RMSE_BEST_VALUE :  1.03108202044\n",
      "lambda= 1.456348, RMSE_BEST_VALUE :  1.031081979\n",
      "lambda= 1.930698, RMSE_BEST_VALUE :  1.03108193389\n",
      "lambda= 2.559548, RMSE_BEST_VALUE :  1.03108188357\n",
      "lambda= 3.393222, RMSE_BEST_VALUE :  1.03108182761\n",
      "lambda= 4.498433, RMSE_BEST_VALUE :  1.03108176776\n",
      "lambda= 5.963623, RMSE_BEST_VALUE :  1.03108171015\n",
      "lambda= 7.906043, RMSE_BEST_VALUE :  1.0310816691\n",
      "lambda= 10.481131, RMSE_BEST_VALUE :  1.03108167421\n",
      "lambda= 13.894955, RMSE_BEST_VALUE :  1.03108178264\n",
      "lambda= 18.4207, RMSE_BEST_VALUE :  1.0310821005\n",
      "lambda= 24.420531, RMSE_BEST_VALUE :  1.03108281922\n",
      "lambda= 32.374575, RMSE_BEST_VALUE :  1.0310842763\n",
      "lambda= 42.919343, RMSE_BEST_VALUE :  1.03108705417\n",
      "lambda= 56.89866, RMSE_BEST_VALUE :  1.0310921364\n",
      "lambda= 75.431201, RMSE_BEST_VALUE :  1.03110114401\n",
      "lambda= 100.0, RMSE_BEST_VALUE :  1.03111667297\n",
      "\n",
      "Best error : [ 1.03108167]\n",
      "Best lambda : [ 7.90604321]\n"
     ]
    },
    {
     "data": {
      "image/png": "[encoded data removed]",
      "text/plain": [
       "<matplotlib.figure.Figure at 0x7fba8d72c908>"
      ]
     },
     "metadata": {},
     "output_type": "display_data"
    }
   ],
   "source": [
    "from ridge_regression import cross_validation, ridge_regression\n",
    "\n",
    "def run_ridge_regression_sanitized(y, tX):\n",
    "    \"\"\"ridge regression running script.\"\"\"\n",
    "    \n",
    "    # define parameters for our run   \n",
    "    seed = 1\n",
    "    degrees = np.array([1])\n",
    "    k_fold = 4\n",
    "    lambdas = np.logspace(-4,2,50)\n",
    "    \n",
    "    rmse,lambda_ = cross_validation(y,tX,degrees,lambdas,k_fold,seed)\n",
    "    \n",
    "    weights = ridge_regression(y, tX, lambda_[0])\n",
    "\n",
    "    DATA_TEST_PATH = 'data/test.csv'  # Download train data and supply path here \n",
    "    y_test, tX_test, ids_test = load_csv_data(DATA_TEST_PATH)\n",
    "    tX_test_sorted = sanitize_NaN(tX_test)\n",
    "    \n",
    "    OUTPUT_PATH = 'data/output_sanitized_normalization_test.csv' # Fill in desired name of output file for submission\n",
    "    y_pred = predict_labels(weights, tX_test_sorted)\n",
    "    create_csv_submission(ids_test, y_pred, OUTPUT_PATH)\n",
    "\n",
    "run_ridge_regression_sanitized(y,tX)"
   ]
  }
 ],
 "metadata": {
  "anaconda-cloud": {},
  "kernelspec": {
   "display_name": "Python [Root]",
   "language": "python",
   "name": "Python [Root]"
  },
  "language_info": {
   "codemirror_mode": {
    "name": "ipython",
    "version": 3
   },
   "file_extension": ".py",
   "mimetype": "text/x-python",
   "name": "python",
   "nbconvert_exporter": "python",
   "pygments_lexer": "ipython3",
   "version": "3.5.2"
  }
 },
 "nbformat": 4,
 "nbformat_minor": 0
}
