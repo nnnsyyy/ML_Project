{
 "cells": [
  {
   "cell_type": "markdown",
   "metadata": {},
   "source": [
    "# Implementatation of ridge regression"
   ]
  },
  {
   "cell_type": "code",
   "execution_count": null,
   "metadata": {
    "collapsed": false
   },
   "outputs": [],
   "source": [
    "# Useful starting lines\n",
    "%matplotlib inline\n",
    "import numpy as np\n",
    "import matplotlib.pyplot as plt\n",
    "from proj1_helpers import *\n",
    "%load_ext autoreload\n",
    "%autoreload 2"
   ]
  },
  {
   "cell_type": "markdown",
   "metadata": {},
   "source": [
    "### Load the training data into feature matrix, class labels, and event ids:"
   ]
  },
  {
   "cell_type": "code",
   "execution_count": null,
   "metadata": {
    "collapsed": false
   },
   "outputs": [],
   "source": [
    "from proj1_helpers import *\n",
    "DATA_TRAIN_PATH = 'data/train.csv' # TODO: download train data and supply path here \n",
    "y, tX, ids = load_csv_data(DATA_TRAIN_PATH)"
   ]
  },
  {
   "cell_type": "markdown",
   "metadata": {},
   "source": [
    "### Now let us turn to the proper machine learning side of the problem"
   ]
  },
  {
   "cell_type": "markdown",
   "metadata": {},
   "source": [
    "The run ridge regression function here computes everything we need in our problem. It works the follwing way.\n",
    "- We define the parameters for our run, basically the degrees and the lambdas we want.\n",
    "- The cross_validation function performs a k-fold cross-validation (takes a lot of time) and then returns the best degree of polynomial along with the associated lambda. \n",
    "- Then we just have to re-run the ridge regression once more with those parameters to get the optimal weights.\n",
    "- The final step is to run the model on the testing data set, do our prediction and save the result\n",
    "\n",
    "VERY IMPORTANT NOTE :\n",
    "- The sanitation and standardization of the data are part of our modelling process, there should hence be included into the cross-validation process, as they differ for each sample that we consider."
   ]
  },
  {
   "cell_type": "code",
   "execution_count": null,
   "metadata": {
    "collapsed": false,
    "scrolled": true
   },
   "outputs": [],
   "source": [
    "from ridge_regression import cross_validation, ridge_regression\n",
    "def run_ridge_regression(y, tX):\n",
    "    \"\"\"ridge regression running script. works on the RAW data\"\"\"\n",
    "    \n",
    "    # define parameters for our run   \n",
    "    seed = 12\n",
    "    \n",
    "    #not possible yet to run polynomial  degrees at the same time.\n",
    "    degrees = np.array([3])\n",
    "    k_fold = 4\n",
    "    lambdas = np.logspace(-1,2,50)\n",
    "    \n",
    "    rmse,lambda_ = cross_validation(y,tX,degrees,lambdas,k_fold,seed)\n",
    "    #Let us now clean the input\n",
    "    tX,median_tr = sanitize_NaN(tX)\n",
    "    tX,mean_tr,std_tr = standardize(tX)\n",
    "    tX = build_poly(tX,degrees[0])\n",
    "    \n",
    "    weights = ridge_regression(y, tX, lambda_[0])\n",
    "\n",
    "    print('Weights on whole set\\n',weights)\n",
    "    \n",
    "    DATA_TEST_PATH = 'data/test.csv'  # Download train data and supply path here \n",
    "    y_test, tX_test, ids_test = load_csv_data(DATA_TEST_PATH)\n",
    "    \n",
    "    tX_test_sorted,median_vec = sanitize_NaN(tX_test,median_tr)\n",
    "    tX_test_sorted,mean_tr,std_tr = standardize(tX_test_sorted,mean_tr,std_tr)\n",
    "    tX_test_sorted = build_poly(tX_test_sorted, degrees[0])\n",
    "    OUTPUT_PATH = 'data/output_sanitized_normalization_degree3_lambda_finer.csv' # Fill in desired name of output file for submission\n",
    "    y_pred = predict_labels(np.array(weights), np.array(tX_test_sorted))\n",
    "    create_csv_submission(ids_test, y_pred, OUTPUT_PATH)\n",
    "\n",
    "run_ridge_regression_sanitized(y,tX)"
   ]
  },
  {
   "cell_type": "code",
   "execution_count": 2,
   "metadata": {
    "collapsed": false
   },
   "outputs": [
    {
     "name": "stdout",
     "output_type": "stream",
     "text": [
      "The autoreload extension is already loaded. To reload it, use:\n",
      "  %reload_ext autoreload\n",
      "LOADING THE DATA DONE\n",
      "CROSS VALIDATION\n",
      "\n",
      " Testing for a polynomial of degree  1\n",
      "lambda= 0.1, Percentage of classification error :  0.319196\n",
      "lambda= 0.562341, Percentage of classification error :  0.319196\n",
      "lambda= 3.162278, Percentage of classification error :  0.319204\n",
      "lambda= 17.782794, Percentage of classification error :  0.319216\n",
      "lambda= 100.0, Percentage of classification error :  0.319312\n",
      "\n",
      "Best error : [ 0.319196]\n",
      "Best lambda : [ 0.1]\n",
      "Weights on whole set\n",
      " [ -3.14663874e-01   1.33780285e-02  -2.55298796e-01  -2.66661085e-01\n",
      "  -4.48195708e-03   1.94846811e-02   1.04026644e-01   6.45086954e-03\n",
      "   2.81440873e-01  -2.08363871e-02  -1.55145434e-02  -1.87370561e-01\n",
      "   1.15806339e-01   7.37340339e-02   1.89202502e-01  -7.94047979e-04\n",
      "  -8.56930364e-04   2.92594335e-01  -8.76434022e-04   2.51813246e-03\n",
      "   1.03318224e-01   9.13381532e-04  -4.85275760e-02   5.77605146e-02\n",
      "   3.65213794e-03   6.65291388e-04   1.64442535e-04  -5.13031853e-03\n",
      "   1.52088763e-03  -1.68605435e-03  -7.29126893e-02]\n",
      "IMPORTING TESTING DATA : DONE\n",
      "EXPORTING TESTING DATA WITH PREDICTIONS DONE\n"
     ]
    },
    {
     "data": {
      "image/png": "[encoded data removed]",
      "text/plain": [
       "<matplotlib.figure.Figure at 0x7ff052ba4240>"
      ]
     },
     "metadata": {},
     "output_type": "display_data"
    }
   ],
   "source": [
    "# Useful starting lines\n",
    "%matplotlib inline\n",
    "import numpy as np\n",
    "import matplotlib.pyplot as plt\n",
    "from proj1_helpers import *\n",
    "from ridge_regression import *\n",
    "%load_ext autoreload\n",
    "%autoreload 2\n",
    "\n",
    "def run():\n",
    "    \"\"\"ridge regression running script. works on the RAW data\"\"\"\n",
    "    \n",
    "    #0. DEFINE PARAMETERS FOR OUR RUN\n",
    "    seed = 1\n",
    "    \n",
    "    #not possible yet to run polynomial  degrees at the same time.\n",
    "    degrees = np.array([3])\n",
    "    k_fold = 4\n",
    "    lambdas = np.logspace(-1,2,50)\n",
    "    \n",
    "    #1. LOAD THE DATA\n",
    "    print('LOADING THE DATA: ',end=\" \")\n",
    "    DATA_TRAIN_PATH = 'data/train.csv' # TODO: download train data and supply path here \n",
    "    y, tX, ids = load_csv_data(DATA_TRAIN_PATH)\n",
    "    print('DONE')\n",
    "    \n",
    "    #2. RUN CROSS VALIDATION TO GET BEST LAMBDA\n",
    "    print('CROSS VALIDATION')\n",
    "    rmse,lambda_ = cross_validation(y,tX,degrees,lambdas,k_fold,seed)\n",
    "    #Let us now clean the input\n",
    "    tX,median_tr = sanitize_NaN(tX)\n",
    "    tX,mean_tr,std_tr = standardize(tX)\n",
    "    tX = build_poly(tX,degrees[0])\n",
    "    \n",
    "    #3. TRAIN THE MODEL\n",
    "    weights = ridge_regression(y, tX, lambda_[0])\n",
    "\n",
    "    print('Weights on whole set\\n',weights)\n",
    "    \n",
    "    #4. TEST THE MODEL AND EXPORT THE RESULTS\n",
    "    DATA_TEST_PATH = 'data/test.csv'  # Download train data and supply path here \n",
    "    print('IMPORTING TESTING DATA :',end=\" \")\n",
    "    y_test, tX_test, ids_test = load_csv_data(DATA_TEST_PATH)\n",
    "    print('DONE')\n",
    "    \n",
    "    tX_test_sorted,median_vec = sanitize_NaN(tX_test,median_tr)\n",
    "    tX_test_sorted,mean_tr,std_tr = standardize(tX_test_sorted,mean_tr,std_tr)\n",
    "    tX_test_sorted = build_poly(tX_test_sorted, degrees[0])\n",
    "    OUTPUT_PATH = 'data/output_sanitized_normalization_degree1_lambda_finer_test.csv' # Fill in desired name of output file for submission\n",
    "    print('EXPORTING TESTING DATA WITH PREDICTIONS :',end=\" \")\n",
    "    y_pred = predict_labels(np.array(weights), np.array(tX_test_sorted))\n",
    "    create_csv_submission(ids_test, y_pred, OUTPUT_PATH)\n",
    "    print('DONE')\n",
    "\n",
    "run()"
   ]
  },
  {
   "cell_type": "code",
   "execution_count": null,
   "metadata": {
    "collapsed": true
   },
   "outputs": [],
   "source": []
  }
 ],
 "metadata": {
  "anaconda-cloud": {},
  "kernelspec": {
   "display_name": "Python [conda root]",
   "language": "python",
   "name": "conda-root-py"
  },
  "language_info": {
   "codemirror_mode": {
    "name": "ipython",
    "version": 3
   },
   "file_extension": ".py",
   "mimetype": "text/x-python",
   "name": "python",
   "nbconvert_exporter": "python",
   "pygments_lexer": "ipython3",
   "version": "3.5.2"
  }
 },
 "nbformat": 4,
 "nbformat_minor": 0
}
